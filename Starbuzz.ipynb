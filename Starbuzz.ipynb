{
  "nbformat": 4,
  "nbformat_minor": 0,
  "metadata": {
    "colab": {
      "name": "Starbuzz.ipynb",
      "version": "0.3.2",
      "provenance": []
    },
    "kernelspec": {
      "name": "python3",
      "display_name": "Python 3"
    }
  },
  "cells": [
    {
      "metadata": {
        "id": "6-m9J6kgQ_8a",
        "colab_type": "code",
        "outputId": "9896f5dc-6974-4100-fb93-76c14342c5b3",
        "colab": {
          "base_uri": "https://localhost:8080/",
          "height": 140
        }
      },
      "cell_type": "code",
      "source": [
        "import urllib.request\n",
        "\n",
        "page = urllib.request.urlopen(\"http://beans-r-us.appspot.com/prices.html\")\n",
        "text = page.read().decode(\"utf8\")\n",
        "\n",
        "print(text)"
      ],
      "execution_count": 0,
      "outputs": [
        {
          "output_type": "stream",
          "text": [
            "<html><head><title>Welcome to the Beans'R'Us Pricing Page</title>\n",
            "<link rel=\"stylesheet\" type=\"text/css\" href=\"beansrus.css\" />\n",
            "</head><body>\n",
            "<h2>Welcome to the Beans'R'Us Pricing Page</h2>\n",
            "<p>Current price of coffee beans = <strong>$5.53</strong></p>\n",
            "<p>Price valid for 15 minutes from Wed Apr 10 08:07:31 2019.</p>\n",
            "</body></html>\n"
          ],
          "name": "stdout"
        }
      ]
    },
    {
      "metadata": {
        "id": "FlYxqIp2wTs0",
        "colab_type": "text"
      },
      "cell_type": "markdown",
      "source": [
        "找出價格"
      ]
    },
    {
      "metadata": {
        "id": "3xLK3gPZXoJC",
        "colab_type": "code",
        "outputId": "558d297f-ade5-4384-9240-0fb66e7f2274",
        "colab": {
          "base_uri": "https://localhost:8080/",
          "height": 34
        }
      },
      "cell_type": "code",
      "source": [
        "import urllib.request\n",
        "\n",
        "page = urllib.request.urlopen(\"http://beans-r-us.appspot.com/prices.html\")\n",
        "text = page.read().decode(\"utf8\")\n",
        "price = text[234:238]\n",
        "\n",
        "print(price)"
      ],
      "execution_count": 0,
      "outputs": [
        {
          "output_type": "stream",
          "text": [
            "5.25\n"
          ],
          "name": "stdout"
        }
      ]
    }
  ]
}