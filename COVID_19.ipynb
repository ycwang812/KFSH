{
  "nbformat": 4,
  "nbformat_minor": 0,
  "metadata": {
    "colab": {
      "name": "COVID-19.ipynb",
      "provenance": [],
      "collapsed_sections": []
    },
    "kernelspec": {
      "name": "python3",
      "display_name": "Python 3"
    }
  },
  "cells": [
    {
      "cell_type": "markdown",
      "metadata": {
        "id": "XaoGz35qtxVw",
        "colab_type": "text"
      },
      "source": [
        "#  網路爬蟲實作"
      ]
    },
    {
      "cell_type": "markdown",
      "metadata": {
        "id": "2OsxJsKaI5KD",
        "colab_type": "text"
      },
      "source": [
        "以新冠肺炎台灣疫情資訊為例 (網址為 https://news.campaign.yahoo.com.tw/2019-nCoV/index.php)"
      ]
    },
    {
      "cell_type": "markdown",
      "metadata": {
        "id": "JC5rhygnHixG",
        "colab_type": "text"
      },
      "source": [
        "### 取得 Yahoo 新冠肺炎網頁疫情所有資訊"
      ]
    },
    {
      "cell_type": "code",
      "metadata": {
        "id": "ahgOnrEKt2Tw",
        "colab_type": "code",
        "colab": {}
      },
      "source": [
        "import urllib.request\n",
        "\n",
        "page = urllib.request.urlopen(\"https://news.campaign.yahoo.com.tw/2019-nCoV/index.php\")\n",
        "text = page.read().decode(\"utf8\")\n",
        "\n",
        "print(text)\n"
      ],
      "execution_count": 0,
      "outputs": []
    },
    {
      "cell_type": "markdown",
      "metadata": {
        "id": "BSGr9urVL0m1",
        "colab_type": "text"
      },
      "source": [
        "![alt text](https://raw.githubusercontent.com/ycwang812/KFSH/master/images/2020-05-06_16-43-07.png)"
      ]
    },
    {
      "cell_type": "markdown",
      "metadata": {
        "id": "q2QuPsVDt9Sx",
        "colab_type": "text"
      },
      "source": [
        "### 找出台灣疫情資訊\n",
        "\n",
        "採用固定文字位置方式，擷取文字起始及結束位置，直接取得新冠肺炎台灣確認數據，但此方式可能會出錯"
      ]
    },
    {
      "cell_type": "code",
      "metadata": {
        "id": "cbldm6Fut_pY",
        "colab_type": "code",
        "colab": {}
      },
      "source": [
        "import urllib.request\n",
        "\n",
        "page = urllib.request.urlopen(\"https://news.campaign.yahoo.com.tw/2019-nCoV/index.php\")\n",
        "text = page.read().decode(\"utf8\")\n",
        "price = text[6740:6743]\n",
        "\n",
        "print(price)\n"
      ],
      "execution_count": 0,
      "outputs": []
    },
    {
      "cell_type": "markdown",
      "metadata": {
        "id": "-7eCuG9jIbLJ",
        "colab_type": "text"
      },
      "source": [
        "![alt text](https://raw.githubusercontent.com/ycwang812/KFSH/master/images/2020-05-06_16-50-35.png)"
      ]
    },
    {
      "cell_type": "markdown",
      "metadata": {
        "id": "1OOnCAhrvC_Q",
        "colab_type": "text"
      },
      "source": [
        "### 動態找出台灣疫情資訊段落\n",
        "\n",
        "找出不重複唯一的關鍵字或 HTML 標籤，切割出台灣確診人數"
      ]
    },
    {
      "cell_type": "markdown",
      "metadata": {
        "id": "HpZXrvJrNEfZ",
        "colab_type": "text"
      },
      "source": [
        "![alt text](https://raw.githubusercontent.com/ycwang812/KFSH/master/images/2020-05-06_16-59-35.png)"
      ]
    },
    {
      "cell_type": "code",
      "metadata": {
        "id": "BqDUP9bOvJEP",
        "colab_type": "code",
        "colab": {}
      },
      "source": [
        "import urllib.request\n",
        "\n",
        "page = urllib.request.urlopen(\"https://news.campaign.yahoo.com.tw/2019-nCoV/index.php\")\n",
        "text = page.read().decode(\"utf8\")\n",
        "\n",
        "text = text[text.find(\"<p>台灣</p>\"):text.find(\"<p>美國</p>\")]\n",
        "\n",
        "print(text)\n"
      ],
      "execution_count": 0,
      "outputs": []
    },
    {
      "cell_type": "markdown",
      "metadata": {
        "id": "1DFa1CtMNapI",
        "colab_type": "text"
      },
      "source": [
        "### 縮小範圍"
      ]
    },
    {
      "cell_type": "markdown",
      "metadata": {
        "id": "KOJVN-QVOhiZ",
        "colab_type": "text"
      },
      "source": [
        "![alt text](https://raw.githubusercontent.com/ycwang812/KFSH/master/images/2020-05-06_17-05-09.png)"
      ]
    },
    {
      "cell_type": "code",
      "metadata": {
        "id": "u0BM0Fp3u3jY",
        "colab_type": "code",
        "colab": {}
      },
      "source": [
        "import urllib.request\n",
        "\n",
        "page = urllib.request.urlopen(\"https://news.campaign.yahoo.com.tw/2019-nCoV/index.php\")\n",
        "text = page.read().decode(\"utf8\")\n",
        "\n",
        "text = text[text.find(\"<p>台灣</p>\"):text.find(\"<p>美國</p>\")]\n",
        "text = text[text.find('<p class=\"current\">'):]\n",
        "\n",
        "print(text)\n"
      ],
      "execution_count": 0,
      "outputs": []
    },
    {
      "cell_type": "markdown",
      "metadata": {
        "id": "l0r0AWAzNksN",
        "colab_type": "text"
      },
      "source": [
        "### 精準取得台灣確診數值"
      ]
    },
    {
      "cell_type": "markdown",
      "metadata": {
        "id": "G43BDThkOs7A",
        "colab_type": "text"
      },
      "source": [
        "![alt text](https://raw.githubusercontent.com/ycwang812/KFSH/master/images/2020-05-06_17-08-56.png)"
      ]
    },
    {
      "cell_type": "code",
      "metadata": {
        "id": "ERqVjNJ8vgKY",
        "colab_type": "code",
        "colab": {}
      },
      "source": [
        "import urllib.request\n",
        "\n",
        "page = urllib.request.urlopen(\"https://news.campaign.yahoo.com.tw/2019-nCoV/index.php\")\n",
        "text = page.read().decode(\"utf8\")\n",
        "\n",
        "text = text[text.find(\"<p>台灣</p>\"):text.find(\"<p>美國</p>\")]\n",
        "text = text[text.find('<p class=\"current\">'):]\n",
        "text = text[text.find(\">\") + 1:text.find(\"</p>\")]\n",
        "\n",
        "print(text)\n"
      ],
      "execution_count": 0,
      "outputs": []
    }
  ]
}